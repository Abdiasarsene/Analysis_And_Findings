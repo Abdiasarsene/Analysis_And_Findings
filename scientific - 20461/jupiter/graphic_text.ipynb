{
 "cells": [
  {
   "cell_type": "code",
   "execution_count": 1,
   "metadata": {},
   "outputs": [],
   "source": [
    "# Importation des librairies\n",
    "import pandas as pd\n",
    "import missingno as msno\n",
    "import statsmodels.api as sm\n",
    "import numpy as np\n",
    "import matplotlib.pyplot as plt\n",
    "import seaborn as sns\n",
    "from sklearn.preprocessing import MinMaxScaler\n",
    "from sklearn.model_selection import train_test_split\n",
    "from sklearn.linear_model import LinearRegression\n",
    "from googletrans import Translator\n",
    "from sklearn.impute import KNNImputer\n",
    "from sklearn.neighbors import NearestNeighbors\n",
    "from sklearn.linear_model import LinearRegression\n",
    "from sklearn.metrics import mean_squared_error, r2_score\n",
    "from sklearn.neural_network import MLPRegressor \n",
    "from sklearn.ensemble import RandomForestRegressor\n",
    "from sklearn.model_selection import GridSearchCV\n"
   ]
  },
  {
   "cell_type": "code",
   "execution_count": 2,
   "metadata": {},
   "outputs": [
    {
     "ename": "NameError",
     "evalue": "name 'article' is not defined",
     "output_type": "error",
     "traceback": [
      "\u001b[1;31m---------------------------------------------------------------------------\u001b[0m",
      "\u001b[1;31mNameError\u001b[0m                                 Traceback (most recent call last)",
      "Cell \u001b[1;32mIn[2], line 8\u001b[0m\n\u001b[0;32m      5\u001b[0m \u001b[38;5;28;01mfrom\u001b[39;00m \u001b[38;5;21;01msklearn\u001b[39;00m\u001b[38;5;21;01m.\u001b[39;00m\u001b[38;5;21;01mlinear_model\u001b[39;00m \u001b[38;5;28;01mimport\u001b[39;00m LinearRegression\n\u001b[0;32m      7\u001b[0m \u001b[38;5;66;03m# Préparation des données\u001b[39;00m\n\u001b[1;32m----> 8\u001b[0m x \u001b[38;5;241m=\u001b[39m \u001b[43marticle\u001b[49m[[\u001b[38;5;124m'\u001b[39m\u001b[38;5;124mAverage temperature\u001b[39m\u001b[38;5;124m'\u001b[39m, \u001b[38;5;124m'\u001b[39m\u001b[38;5;124mGeopolitical risk\u001b[39m\u001b[38;5;124m'\u001b[39m, \u001b[38;5;124m'\u001b[39m\u001b[38;5;124mCarbon tax\u001b[39m\u001b[38;5;124m'\u001b[39m,\n\u001b[0;32m      9\u001b[0m              \u001b[38;5;124m'\u001b[39m\u001b[38;5;124mEconomic inequality (Gini coefficient)\u001b[39m\u001b[38;5;124m'\u001b[39m, \u001b[38;5;124m'\u001b[39m\u001b[38;5;124mAnnual GDP growth rate\u001b[39m\u001b[38;5;124m'\u001b[39m,\n\u001b[0;32m     10\u001b[0m              \u001b[38;5;124m'\u001b[39m\u001b[38;5;124mUnemployment rate\u001b[39m\u001b[38;5;124m'\u001b[39m, \u001b[38;5;124m'\u001b[39m\u001b[38;5;124mInflation rate\u001b[39m\u001b[38;5;124m'\u001b[39m, \n\u001b[0;32m     11\u001b[0m              \u001b[38;5;124m'\u001b[39m\u001b[38;5;124mPurchasing power gross disposable income\u001b[39m\u001b[38;5;124m'\u001b[39m]]  \u001b[38;5;66;03m# Prédicteurs\u001b[39;00m\n\u001b[0;32m     12\u001b[0m y \u001b[38;5;241m=\u001b[39m article[\u001b[38;5;124m'\u001b[39m\u001b[38;5;124mFood prices index\u001b[39m\u001b[38;5;124m'\u001b[39m]  \u001b[38;5;66;03m# Variable cible\u001b[39;00m\n\u001b[0;32m     14\u001b[0m \u001b[38;5;66;03m# Séparation des données en ensembles d'entraînement et de test\u001b[39;00m\n",
      "\u001b[1;31mNameError\u001b[0m: name 'article' is not defined"
     ]
    }
   ],
   "source": [
    "import numpy as np\n",
    "import pandas as pd\n",
    "from scipy.stats import shapiro, normaltest, probplot\n",
    "from sklearn.model_selection import train_test_split\n",
    "from sklearn.linear_model import LinearRegression\n",
    "\n",
    "# Préparation des données\n",
    "x = article[['Average temperature', 'Geopolitical risk', 'Carbon tax',\n",
    "             'Economic inequality (Gini coefficient)', 'Annual GDP growth rate',\n",
    "             'Unemployment rate', 'Inflation rate', \n",
    "             'Purchasing power gross disposable income']]  # Prédicteurs\n",
    "y = article['Food prices index']  # Variable cible\n",
    "\n",
    "# Séparation des données en ensembles d'entraînement et de test\n",
    "x_train, x_test, y_train, y_test = train_test_split(x, y, test_size=0.2, random_state=42)\n",
    "\n",
    "# Ajustement du modèle de régression linéaire\n",
    "linear_model = LinearRegression()\n",
    "linear_model.fit(x_train, y_train)\n",
    "y_pred_linear = linear_model.predict(x_test)\n",
    "\n",
    "# Calcul des résidus\n",
    "residuals = y_test - y_pred_linear\n",
    "\n",
    "# Test de normalité de Shapiro-Wilk\n",
    "shapiro_test = shapiro(residuals)\n",
    "print(f\"Shapiro-Wilk Test: Statistic = {shapiro_test.statistic:.4f}, p-value = {shapiro_test.pvalue:.4e}\")\n",
    "\n",
    "# Test de normalité de D'Agostino\n",
    "dagostino_test = normaltest(residuals)\n",
    "print(f\"D'Agostino Test: Statistic = {dagostino_test.statistic:.4f}, p-value = {dagostino_test.pvalue:.4e}\")\n",
    "\n",
    "# Quantiles théoriques et résidus observés\n",
    "quantiles_theoretical, quantiles_observed = probplot(residuals, dist=\"norm\")[:2]\n",
    "print(\"\\nQuantiles théoriques vs. Résidus observés (extrait des 5 premières valeurs) :\")\n",
    "for i in range(5):\n",
    "    print(f\"Theoretical: {quantiles_theoretical[0][i]:.4f}, Observed: {quantiles_observed[i]:.4f}\")\n",
    "\n",
    "# Interprétation basée sur les p-valeurs\n",
    "if shapiro_test.pvalue > 0.05 and dagostino_test.pvalue > 0.05:\n",
    "    print(\"\\nLes résidus suivent une distribution normale (aucune preuve de déviation significative).\")\n",
    "else:\n",
    "    print(\"\\nLes résidus ne suivent pas une distribution normale (preuve de déviation significative).\")\n"
   ]
  },
  {
   "cell_type": "code",
   "execution_count": null,
   "metadata": {},
   "outputs": [],
   "source": [
    "import numpy as np\n",
    "import pandas as pd\n",
    "from linearmodels.iv import IVGMM\n",
    "\n",
    "# Préparation des données\n",
    "x = article[['Years', 'Average_temperature', 'Geopolitical_risk', 'Carbon_tax',\n",
    "       'Economic_inequality_(Gini_coefficient)', 'Annual_GDP_growth_rate',\n",
    "       'Unemployment_rate', 'Inflation_rate', 'Purchasing_power_gross_disposable_income']]  # Prédicteurs\n",
    "y = article['Food_prices_index']  # Variable cible\n",
    "\n",
    "\n",
    "# Ajout d'une constante (intercept)\n",
    "x['const'] = 1\n",
    "\n",
    "# Instruments : dans cet exemple, on réutilise les prédicteurs comme instruments pour simplifier\n",
    "instruments = x.copy()\n",
    "\n",
    "# Création de la formule\n",
    "formula = f\"{y.name} ~ \" + \" + \".join(x.columns)\n",
    "\n",
    "# Ajustement du modèle avec IVGMM (de manière correcte)\n",
    "model = IVGMM.from_formula(formula, data=article, instruments=instruments)\n",
    "\n",
    "# Résultats\n",
    "results = model.fit()\n",
    "\n",
    "# Affichage des résultats complets\n",
    "print(results)\n",
    "\n",
    "# Résultats simplifiés\n",
    "coefficients = results.params\n",
    "p_values = results.pvalues\n",
    "\n",
    "print(\"\\nCoefficients estimés :\\n\", coefficients)\n",
    "print(\"\\nP-values associées :\\n\", p_values)\n"
   ]
  }
 ],
 "metadata": {
  "kernelspec": {
   "display_name": "Python 3",
   "language": "python",
   "name": "python3"
  },
  "language_info": {
   "codemirror_mode": {
    "name": "ipython",
    "version": 3
   },
   "file_extension": ".py",
   "mimetype": "text/x-python",
   "name": "python",
   "nbconvert_exporter": "python",
   "pygments_lexer": "ipython3",
   "version": "3.12.6"
  }
 },
 "nbformat": 4,
 "nbformat_minor": 2
}
